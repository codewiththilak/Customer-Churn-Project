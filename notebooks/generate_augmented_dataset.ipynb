{
 "cells": [
  {
   "cell_type": "code",
   "execution_count": 1,
   "id": "bdd4c4c1",
   "metadata": {},
   "outputs": [
    {
     "name": "stdout",
     "output_type": "stream",
     "text": [
      "✅ Dataset expanded to: (30000, 21)\n"
     ]
    }
   ],
   "source": [
    "import pandas as pd\n",
    "import numpy as np\n",
    "import random\n",
    "\n",
    "# Load original dataset\n",
    "df = pd.read_csv('../data/telco_churn.csv')\n",
    "\n",
    "# Fix TotalCharges if it's object\n",
    "if df['TotalCharges'].dtype == 'object':\n",
    "    df['TotalCharges'] = pd.to_numeric(df['TotalCharges'], errors='coerce')\n",
    "\n",
    "df = df.dropna(subset=['TotalCharges'])\n",
    "df['TotalCharges'] = df['TotalCharges'].astype(float)\n",
    "\n",
    "# Function to slightly mutate a row\n",
    "def mutate_row(row):\n",
    "    row['MonthlyCharges'] = max(18, round(np.random.normal(row['MonthlyCharges'], 8), 2))\n",
    "    row['TotalCharges'] = round(row['MonthlyCharges'] * row['tenure'], 2)\n",
    "    row['tenure'] = max(1, row['tenure'] + np.random.randint(-3, 4))\n",
    "    row['customerID'] = \"CUST\" + ''.join(random.choices('0123456789ABCDEF', k=8))\n",
    "    return row\n",
    "\n",
    "# Calculate number of times to repeat\n",
    "num_repeats = 4  # 7,000 x 4 = ~28,000 + original = ~35,000 (we’ll trim later)\n",
    "\n",
    "# Generate expanded dataset\n",
    "new_data = []\n",
    "for _ in range(num_repeats):\n",
    "    temp_df = df.copy().apply(mutate_row, axis=1)\n",
    "    new_data.append(temp_df)\n",
    "\n",
    "# Combine and trim to exactly 30,000 rows\n",
    "df_large = pd.concat([df] + new_data, ignore_index=True)\n",
    "df_large = df_large.sample(n=30000, random_state=42).reset_index(drop=True)\n",
    "\n",
    "# Save to file\n",
    "df_large.to_csv('../data/augmented_telco_churn_30k.csv', index=False)\n",
    "print(\"✅ Dataset expanded to:\", df_large.shape)\n"
   ]
  },
  {
   "cell_type": "code",
   "execution_count": null,
   "id": "0fbc0147",
   "metadata": {},
   "outputs": [],
   "source": []
  },
  {
   "cell_type": "code",
   "execution_count": null,
   "id": "9d5a7ffa",
   "metadata": {},
   "outputs": [],
   "source": []
  },
  {
   "cell_type": "code",
   "execution_count": null,
   "id": "4a481eb2",
   "metadata": {},
   "outputs": [],
   "source": []
  },
  {
   "cell_type": "code",
   "execution_count": null,
   "id": "48f9bb87",
   "metadata": {},
   "outputs": [],
   "source": []
  }
 ],
 "metadata": {
  "kernelspec": {
   "display_name": "Python 3",
   "language": "python",
   "name": "python3"
  },
  "language_info": {
   "codemirror_mode": {
    "name": "ipython",
    "version": 3
   },
   "file_extension": ".py",
   "mimetype": "text/x-python",
   "name": "python",
   "nbconvert_exporter": "python",
   "pygments_lexer": "ipython3",
   "version": "3.10.1"
  }
 },
 "nbformat": 4,
 "nbformat_minor": 5
}
